{
 "cells": [
  {
   "cell_type": "markdown",
   "metadata": {},
   "source": [
    "# BandGen: A 'highly good' band and song name generator \n",
    "©2021 Jeff Emtman. V1.0 - MIT License<BR>\n",
    "This software is free to use, distribute and modify per the MIT License. <BR>\n",
    "This is meant to be a simple teaching tool, but feel free to use it however you please. <BR><BR>\n",
    "**To use this code: run each cell, in order. <BR>**\n"
   ]
  },
  {
   "cell_type": "markdown",
   "metadata": {},
   "source": [
    "## Imports\n",
    "We're importing a couple pieces of code that we'll use in this project.  Namely the 'random' and 'time' modules. "
   ]
  },
  {
   "cell_type": "code",
   "execution_count": null,
   "metadata": {},
   "outputs": [],
   "source": [
    "# We need to use two things that are elsewhere.  This cell imports them so that we can ask the software to do some randomization and some time-based stuff.\n",
    "import random, time"
   ]
  },
  {
   "cell_type": "markdown",
   "metadata": {},
   "source": [
    "## Variables\n",
    "These are two lists of words that we'll use to name our bands and songs.  We'll eventually pick them at random and combine them. "
   ]
  },
  {
   "cell_type": "code",
   "execution_count": null,
   "metadata": {},
   "outputs": [],
   "source": [
    "word_1 = [\"Anacronistic\",\"Future\",\"Setup\",\"Relatable\",\"Quiet\",\"Recumbant\",\"Moon\",\"Monster\",\"Pizza\",\"Business\",\"Ocean\", \"Shrimp\",\"Telescopic\",\"Resiliency\",\"Brutalist\",\"Cheeseboard\",\"Bear\",\"Future\",\"Clump\",\"Oversized\",\"Conflicting\",\"Curbside\",\"Secret\",\"Somatosensory\",\"Realistic\",\"Psychic\",\"Expensive\",\"Moustache\",\"Krill\",\"Badger\",\"Surprise\",\"Novelty\",\"Plant\",\"Izmuth\",\"Thought\",\"Technicolor\",\"Grin\",\"Socialist\",\"Attractiveness\",\"Sky\",\"Juice\",\"Luxury\",\"Canadian\",\"Space\",\"Witch\",\"Landing\",\"Apocalytic\",\"Corona\",\"Viral\",\"Emotional\",\"Vintage\",\"Gen-X\",\"Surprise\",\"Homeopathic\",\"Liver\",\"Pungent\",\"Emotional\",\"Computer\",\"Murky\",\"Performance\",\"Hyperbolic\",\"Moral\",\"Vortex\",\"Dark\",\"Aesthetic\",\"Recalcitrant\",\"Fictive\",\"Therapuetic\",\"Chaos\",\"Brain\",\"Theoretical\",\"Pleasure\",\"Roof\",\"Vegan\",\"Misdemeanor\",\"Business\",\"Pear\",\"Accusation\",\"Death\",\"Feed\",\"Mars\",\"Experimental\",\"Amplified\",\"Dream\",\"Scientific\",\"Faith\",\"Glittery\",\"Millipede\",\"Child\",\"Fiona\",\"Grievous\",\"Horseshoe\",\"Diplomacy\",\"Sky\",\"Dog\",\"Apology\",\"Miscellaneous\",\"Loudness\",\"Emotional\",\"Soft\",\"Gooey\",\"Glove\",\"Plain\",\"Metaphorical\",\"Antibacterial\",\"Fecal\",\"Apollo\",\"Assassain\",\"Worm\",\"Severe\",\"Disaster\",\"Vibrant\",\"Fusion\",\"Millenial\",\"Peacetime\",\"Tong\",\"Snork\",\"Horn\",\"Scoby\",\"Basement\",\"Hypothetical\",\"Guilt\",\"Phantom\",\"Recreational\",\"Heavy-Duty\",\"Wizard\",\"Proverbial\",\"Dusk\",\"Timeless\",]\n",
    "word_2 = [\"Vernacular\",\"Basic\",\"Wizard\",\"Mystique\",\"Mysticism\",\"Replendance\",\"Germs\",\"Dad\",\"Uncle\",\"Podcast\",\"Master\",\"Jesus\",\"Dawg\",\"Peistalisis\",\"Expert\",\"Apologist\",\"Culture\",\"Contingency\",\"Itchy\",\"Noise\",\"Mythology\",\"Vegans\",\"Growler\",\"Silence\",\"Stretching\",\"Testicle\",\"Starvation\",\"Smell\",\"Sighs\",\"Tickler\",\"Alcatraz\",\"Fragrence\",\"Hazmat\",\"Lazerus\",\"Christmas\",\"Leader\",\"Yawn\",\"Diesel\",\"Coupons\",\"Nuisance\",\"Library\",\"Beats\",\"Innovation\",\"Prison\",\"Claw\",\"Decor\",\"Celibate\",\"Nuns\",\"Espionage\",\"Credenza\",\"Denizen\",\"Chores\",\"Coffee\",\"Reading\",\"Prose\",\"Substratum\",\"Freaks\",\"Apocrapha\",\"Velvet\",\"Scent\",\"Turpitute\",\"Action\",\"Heather\",\"Cultivation\",\"Municipality\",\"Kinship\",\"Nihlism\",\"Defrost\",\"Twizzler\",\"Superstar\",\"Garden\",\"Hooch\",\"Recliner\",\"Statistics\",\"Goose\",\"Curse\",\"Finger\",\"Fiber\",\"Horns\",\"Itchy\",\"Reality\",\"Microwave\",\"Water\",\"Suplex\",\"Splendor\",\"Neutrality\",\"Gradient\",\"Premium\",\"Pangolin\",\"Camelot\",\"Crab\",\"Jazz\",\"Lab\",\"Present\",\"Anxiety\",\"Creep\",\"Firehose\",\"Condor\",\"Morrow\",\"Modernization\",\"Soup\",\"Rampage\",\"Melon\",\"Plume\",\"Mutations\",\"Couture\",\"Drive\",\"Peril\",\"Grey\",\"Leftovers\",\"Experts\",\"Candy\",\"Hole\",\"Paradox\",\"Meathook\",\"Cheeseknife\",\"Consultant\",\"Power\",\"Mathmatics\",\"Delicates\",\"Edgelord\",\"Gatekeepers\",\"Birds\",\"Chad\",]"
   ]
  },
  {
   "cell_type": "markdown",
   "metadata": {},
   "source": [
    "## Functions\n",
    "This program has two functions: \n",
    "- nameGenerator(): makes a random choice from our words lists.\n",
    "- loadingBar(duration): draws a simple loading bar on the screen.  It takes a parameter called 'duration', which is the number of seconds the loading bar should take to complete. \n",
    "\n",
    "Functions are useful for things that you need to do many times.  Instead of typing out every single command many times over, we can make a function instead. "
   ]
  },
  {
   "cell_type": "code",
   "execution_count": null,
   "metadata": {},
   "outputs": [],
   "source": [
    "# This is a simple function that just picks an item off of each list at random, returns them CAPITALIZED as the variable \"both\". \n",
    "# It won't do anything until we \"call\" it to run, which we'll do later . \n",
    "\n",
    "def nameGenerator(): \n",
    "    first = random.choice(word_1)\n",
    "    second = random.choice(word_2)\n",
    "    both = first.upper() +\" \" + second.upper()\n",
    "    \n",
    "    return both"
   ]
  },
  {
   "cell_type": "code",
   "execution_count": null,
   "metadata": {},
   "outputs": [],
   "source": [
    "# I think it's more fun to make people wait a sec.  So we'll make a second function here that just makes a fake loading bar\n",
    "#'duration' is a parameter we'll give the function when we call it later.  It determins how many seconds the bar will take to complete loading.\n",
    "# Remember that this won't do anything until we \"call\" it later. \n",
    "# This is, by far, the most complicated thing in this program. \n",
    "\n",
    "def loadingBar(duration):  \n",
    "    # how many chunks should our loading bar have? \n",
    "    total_length = 40\n",
    "    \n",
    "    #a (currently) empty variable that will hold our loading bar as a series of characters (also called a \"string\")\n",
    "    progress = \"\"\n",
    "    \n",
    "    #the \"for loop\" below will iterate the number of times that we've defined above as \"total_length\" (40 by default)\n",
    "    for i in range(total_length): \n",
    "        \n",
    "        #add an asterisk to the \"progress\" variable. \n",
    "        progress += \"*\"\n",
    "    \n",
    "        #print the current state of the \"progress\" variable.  \n",
    "        #The \"\\r\" means that we should re-write the current line of the output, instead of generating a new line for each running of the loop\n",
    "        print(progress, end=\"\\r\"),\n",
    "        \n",
    "        # Now, we'll wait for just a moment before repeating the loop. This is called \"sleeping\". \n",
    "        # We can calculate the needed sleep time by divding the \"duration\" by the \"total_length\".  \n",
    "        #We haven't actually told it how much of a duration (in seconds) yet, but we'll do that when we call this function. \n",
    "        time.sleep(duration/total_length)\n",
    "        \n",
    "        #now repeat the loop!         \n",
    "    \n",
    "    #at the very end, we'll print a new line with \"\\n\".  This just keeps things organized. This happens after the loop finishes. \n",
    "    print(\"\\n\")\n",
    "    "
   ]
  },
  {
   "cell_type": "code",
   "execution_count": null,
   "metadata": {},
   "outputs": [],
   "source": [
    "# if you remove the \"#\" on the next line and run this cell, you can try out a five second loading bar :) \n",
    "#loadingBar(5)"
   ]
  },
  {
   "cell_type": "markdown",
   "metadata": {},
   "source": [
    "## Making the names. \n",
    "Now it's time to make the names.  We just need to \"call\" nameGenerator() twice and save the result as a variable. <br/>\n",
    "For every time you want a new band/song name, you'll want to run the cell below again. "
   ]
  },
  {
   "cell_type": "code",
   "execution_count": null,
   "metadata": {},
   "outputs": [],
   "source": [
    "# Let's name our band by running nameGenerator and saving that as the variable \"band_name\".  Let's \"call\" nameGenerator. \n",
    "band_name = nameGenerator()\n",
    "\n",
    "# Let's name our first hit single, by running nameGenerator again and saving it as a different variable. \n",
    "song_name = nameGenerator()\n",
    "\n",
    "# print a line that lets us know that the generation worked\n",
    "print(\"Name generation was successful.\")"
   ]
  },
  {
   "cell_type": "markdown",
   "metadata": {},
   "source": [
    "## Let's Go! \n",
    "Time to see the output. <br/>\n",
    "I've added some loading bars to give the illusion that this is really hard math (it's not). <br/> \n",
    "I've also added some slight pauses, too. \n"
   ]
  },
  {
   "cell_type": "code",
   "execution_count": null,
   "metadata": {},
   "outputs": [],
   "source": [
    "print(\"BandGen: A highly good band and song name generator\")\n",
    "print(\"©2021 Jeff Emtman. V1.0 - MIT License\")\n",
    "\n",
    "#time for some quick loading bars! \n",
    "\n",
    "print(\"Varigating Inputs...\")\n",
    "loadingBar(2)\n",
    "print(\"Crushing Self-Doubt...\")\n",
    "loadingBar(1.25)\n",
    "print(\"Success!\")\n",
    "\n",
    "#wait for a second, and print some blank lines. \n",
    "time.sleep(1)\n",
    "print(\"\\n\\n\")\n",
    "\n",
    "print(\"- - - - - - - - - - - - - - - - - - - - - - - - - - \")\n",
    "print(song_name, \"by\", band_name)\n",
    "print(\"- - - - - - - - - - - - - - - - - - - - - - - - - - \")\n",
    "\n",
    "#final output below. "
   ]
  }
 ],
 "metadata": {
  "kernelspec": {
   "display_name": "Python 3",
   "language": "python",
   "name": "python3"
  },
  "language_info": {
   "codemirror_mode": {
    "name": "ipython",
    "version": 3
   },
   "file_extension": ".py",
   "mimetype": "text/x-python",
   "name": "python",
   "nbconvert_exporter": "python",
   "pygments_lexer": "ipython3",
   "version": "3.8.5"
  }
 },
 "nbformat": 4,
 "nbformat_minor": 4
}
