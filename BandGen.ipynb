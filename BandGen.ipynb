{
 "cells": [
  {
   "cell_type": "code",
   "execution_count": null,
   "metadata": {},
   "outputs": [],
   "source": [
    "# This software is free to use, distribute and modify.  MIT License terms in the 'LICENSE.txt' file. "
   ]
  },
  {
   "cell_type": "code",
   "execution_count": null,
   "metadata": {},
   "outputs": [],
   "source": [
    "# We need to use two things that are elsewhere.  This cell imports them so that we can ask the software to do some randomization and some time-based stuff.\n",
    "import random, time"
   ]
  },
  {
   "cell_type": "code",
   "execution_count": null,
   "metadata": {},
   "outputs": [],
   "source": [
    "# These are the word lists we'll use.  \n",
    "# Edit these to your heart's content, paying attention to the quotation marks, and the requisite comma after each entry. Square brackets on the ends. \n",
    "\n",
    "word_1 = [\"Anacronistic\",\"Future\",\"Setup\",\"Relatable\",\"Quiet\",\"Recumbant\",\"Moon\",\"Monster\",\"Pizza\",\"Business\",\"Ocean\", \"Shrimp\",\"Telescopic\",\"Resiliency\",\"Brutalist\",\"Cheeseboard\",\"Bear\",\"Future\",\"Clump\",\"Oversized\",\"Conflicting\",\"Curbside\",\"Secret\",\"Somatosensory\",\"Realistic\",\"Psychic\",\"Expensive\",\"Moustache\",\"Krill\",\"Badger\",\"Surprise\",\"Novelty\",\"Plant\",\"Izmuth\",\"Thought\",\"Technicolor\",\"Grin\",\"Socialist\",\"Attractiveness\",\"Sky\",\"Juice\",\"Luxury\",\"Canadian\",\"Space\",\"Witch\",\"Landing\",\"Apocalytic\",\"Corona\",\"Viral\",\"Emotional\",\"Vintage\",\"Gen-X\",\"Surprise\",\"Homeopathic\",\"Liver\",\"Pungent\",\"Emotional\",\"Computer\",\"Murky\",\"Performance\",\"Hyperbolic\",\"Moral\",\"Vortex\",\"Dark\",\"Aesthetic\",\"Recalcitrant\",\"Fictive\",\"Therapuetic\",\"Chaos\",\"Brain\",\"Theoretical\",\"Pleasure\",\"Roof\",\"Vegan\",\"Misdemeanor\",\"Business\",\"Pear\",\"Accusation\",\"Death\",\"Feed\",\"Mars\",\"Sexo-spiritually\",\"Experimental\",\"Amplified\",\"Dream\",\"Scientific\",\"Faith\",\"Glittery\",\"Millipede\",\"Child\",\"Fiona\",\"Grievous\",\"Horseshoe\",\"Diplomacy\",\"Sky\",\"Dog\",\"Apology\",\"Miscellaneous\",\"Loudness\",\"Emotional\",\"Soft\",\"Gooey\",\"Glove\",\"Plain\",\"Metaphorical\",\"Antibacterial\",\"Fecal\",\"Apollo\",\"Assassain\",\"Worm\",\"Severe\",\"Disaster\",\"Vibrant\",\"Fusion\",\"Millenial\",\"Peacetime\",\"Tong\",\"Snork\",\"Horn\",\"Scoby\",\"Basement\",\"Hypothetical\",\"Guilt\",\"Phantom\",\"Recreational\",\"Heavy-Duty\",\"Wizard\",\"Proverbial\",\"Dusk\",\"Timeless\",]\n",
    "word_2 = [\"Vernacular\",\"Basic\",\"Wizard\",\"Mystique\",\"Mysticism\",\"Replendance\",\"Germs\",\"Dad\",\"Uncle\",\"Podcast\",\"Master\",\"Jesus\",\"Dawg\",\"Peistalisis\",\"Expert\",\"Apologist\",\"Culture\",\"Contingency\",\"Itchy\",\"Noise\",\"Mythology\",\"Vegans\",\"Growler\",\"Silence\",\"Stretching\",\"Testicle\",\"Starvation\",\"Smell\",\"Sighs\",\"Tickler\",\"Alcatraz\",\"Fragrence\",\"Hazmat\",\"Lazerus\",\"Christmas\",\"Leader\",\"Yawn\",\"Diesel\",\"Coupons\",\"Nuisance\",\"Noodz\",\"Library\",\"Beats\",\"Innovation\",\"Herpes\",\"Prison\",\"Claw\",\"Decor\",\"Celibate\",\"Nuns\",\"Espionage\",\"Credenza\",\"Denizen\",\"Chores\",\"Coffee\",\"Reading\",\"Prose\",\"Substratum\",\"Freaks\",\"Apocrapha\",\"Velvet\",\"Scent\",\"Turpitute\",\"Action\",\"Heather\",\"Cultivation\",\"Municipality\",\"Kinship\",\"Nihlism\",\"Defrost\",\"Twizzler\",\"Superstar\",\"Garden\",\"Hooch\",\"Recliner\",\"Statistics\",\"Goose\",\"Curse\",\"Finger\",\"Fiber\",\"Horns\",\"Gandhi\",\"Itchy\",\"Striptease\",\"Reality\",\"Microwave\",\"Water\",\"Suplex\",\"Splendor\",\"Neutrality\",\"Gradient\",\"Premium\",\"Pangolin\",\"Camelot\",\"Crab\",\"Jazz\",\"Lab\",\"Present\",\"Anxiety\",\"Creep\",\"Firehose\",\"Condor\",\"Morrow\",\"Modernization\",\"Soup\",\"Rampage\",\"Melon\",\"Plume\",\"Mutations\",\"Couture\",\"Drive\",\"Nudity\",\"Peril\",\"Grey\",\"Leftovers\",\"Expert\",\"Codpiece\",\"Candy\",\"Hole\",\"Paradox\",\"Meathook\",\"Cheeseknife\",\"Fellatio\",\"Consultant\",\"Power\",\"Mathmatics\",\"Delicates\",\"Edgelord\",\"Gatekeepers\",\"Birds\",\"Chad\",]"
   ]
  },
  {
   "cell_type": "code",
   "execution_count": null,
   "metadata": {},
   "outputs": [],
   "source": [
    "# This is a simple function that just picks an item off of each list at random, returns them CAPITALIZED as the variable \"both\". \n",
    "# It won't do anything until we \"call\" it later. \n",
    "def nameGenerator(): \n",
    "    first = random.choice(word_1)\n",
    "    second = random.choice(word_2)\n",
    "    both = first.upper() +\" \" + second.upper()\n",
    "    \n",
    "    return both"
   ]
  },
  {
   "cell_type": "code",
   "execution_count": null,
   "metadata": {},
   "outputs": [],
   "source": [
    "# I think it's more fun to make people wait a sec.  So we'll make a second function here that just makes a fake loading bar\n",
    "#'duration' is a parameter we'll give the function, that lets us tell the bar how long to complete. \n",
    "# remember that this won't do anything until we \"call\" it later. \n",
    "# This is, by far, the most complicated thing in this program. \n",
    "\n",
    "def loadingBar(duration):  \n",
    "    # how many chunks should our loading bar have? \n",
    "    total_length = 40\n",
    "    \n",
    "    #currently empty variable that will hold our loading bar.\n",
    "    progress = \"\"\n",
    "    \n",
    "    #the \"for loop\" below will iterate the number of times that we've defined above as \"total_length\"\n",
    "    for i in range(total_length): \n",
    "        \n",
    "        #add an asterisk to the \"progress\" variable. \n",
    "        progress += \"*\"\n",
    "    \n",
    "        #print the current state of the \"progress\" variable.  \n",
    "        #The \"\\r\" means that we should re-write the current line of the output, instead of generating a new line for each running of the loop\n",
    "        print(progress, end=\"\\r\"),\n",
    "        \n",
    "        # Now, we'll wait for just a moment before repeating the loop. This is called \"sleeping\". \n",
    "        # we can calculate the needed sleep time by divding the \"duration\" by the \"total_length\".  \n",
    "        #We haven't actually told it how much of a duration (in seconds) yet, but we'll do that when we call this function. \n",
    "        time.sleep(duration/total_length)\n",
    "        \n",
    "    #now repeat the loop!         "
   ]
  },
  {
   "cell_type": "code",
   "execution_count": null,
   "metadata": {},
   "outputs": [],
   "source": [
    "# if you remove the \"#\" on the next line and run this cell, you can try out a five second loading bar :) \n",
    "#loadingBar(5)"
   ]
  },
  {
   "cell_type": "code",
   "execution_count": null,
   "metadata": {},
   "outputs": [],
   "source": [
    "# You'll need to run this cell each time you want to get a new band/song name. \n",
    "\n",
    "# Let's name our band by running nameGenerator and saving that as the variable \"band_name\".  Let's \"call\" nameGenerator. \n",
    "band_name = nameGenerator()\n",
    "\n",
    "# Let's name our first hit single, by running nameGenerator again and saving it as a different variable. \n",
    "song_name = nameGenerator()\n",
    "\n",
    "# print a line that lets us know that the generation worked\n",
    "print(\"Name generation was successful.\")"
   ]
  },
  {
   "cell_type": "code",
   "execution_count": null,
   "metadata": {},
   "outputs": [],
   "source": [
    "# Great, we've got everything we need.  Now it's just time to make the output look pretty. \n",
    "\n",
    "print(\"BandGen: A highly good band and song name generator\")\n",
    "print(\"©2021 Jeff Emtman. V1.0 - MIT License\")\n",
    "\n",
    "#time for some quick loading bars! \n",
    "print(\"\\nVarigating Inputs...\")\n",
    "loadingBar(1)\n",
    "print(\"\\nCrushing Self-Doubt...\")\n",
    "loadingBar(.75)\n",
    "print(\"\\nSuccess!\")\n",
    "\n",
    "time.sleep(1)\n",
    "print(\"\\n\\n\")\n",
    "\n",
    "print(\"- - - - - - - - - - - - - - - - - - - - - - - - - - \")\n",
    "print(song_name, \"by\", band_name)\n",
    "print(\"- - - - - - - - - - - - - - - - - - - - - - - - - - \")\n",
    "\n",
    "#final output below. "
   ]
  }
 ],
 "metadata": {
  "kernelspec": {
   "display_name": "Python 3",
   "language": "python",
   "name": "python3"
  },
  "language_info": {
   "codemirror_mode": {
    "name": "ipython",
    "version": 3
   },
   "file_extension": ".py",
   "mimetype": "text/x-python",
   "name": "python",
   "nbconvert_exporter": "python",
   "pygments_lexer": "ipython3",
   "version": "3.8.5"
  }
 },
 "nbformat": 4,
 "nbformat_minor": 4
}
